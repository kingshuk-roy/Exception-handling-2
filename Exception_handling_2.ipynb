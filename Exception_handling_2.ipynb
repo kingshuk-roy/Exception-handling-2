{
  "nbformat": 4,
  "nbformat_minor": 0,
  "metadata": {
    "colab": {
      "provenance": []
    },
    "kernelspec": {
      "name": "python3",
      "display_name": "Python 3"
    },
    "language_info": {
      "name": "python"
    }
  },
  "cells": [
    {
      "cell_type": "code",
      "execution_count": 1,
      "metadata": {
        "colab": {
          "base_uri": "https://localhost:8080/",
          "height": 122
        },
        "id": "mpe1KqauFZGj",
        "outputId": "e9b764fa-0a6b-4480-9e4f-3164e15ba7d0"
      },
      "outputs": [
        {
          "output_type": "execute_result",
          "data": {
            "text/plain": [
              "'\\nUsing the `Exception` class as the base class for creating custom exceptions is essential for several reasons. \\nFirstly, it provides a standardized approach to handling exceptions, ensuring consistency across the codebase and facilitating interoperability with existing error-handling systems. \\nBy inheriting from `Exception`, custom exceptions inherit crucial functionality and behaviors, such as capturing error messages and stack traces.\\n Moreover, using the `Exception` class allows for proper error propagation and enables catching and handling custom exceptions using standard error-handling mechanisms. \\n It also improves code readability and understanding for developers by conveying the purpose and nature of the exception. \\n Overall, using the `Exception` class ensures proper exception handling and promotes effective software development practices.'"
            ],
            "application/vnd.google.colaboratory.intrinsic+json": {
              "type": "string"
            }
          },
          "metadata": {},
          "execution_count": 1
        }
      ],
      "source": [
        "# Q1. Explain why we have to use the Exception class while creating a Custom Exception.\n",
        "'''Note: Here Exception class refers to the base class for all the exceptions.'''\n",
        "\n",
        "'''\n",
        "Using the `Exception` class as the base class for creating custom exceptions is essential for several reasons.\n",
        "Firstly, it provides a standardized approach to handling exceptions, ensuring consistency across the codebase and facilitating interoperability with existing error-handling systems.\n",
        "By inheriting from `Exception`, custom exceptions inherit crucial functionality and behaviors, such as capturing error messages and stack traces.\n",
        " Moreover, using the `Exception` class allows for proper error propagation and enables catching and handling custom exceptions using standard error-handling mechanisms.\n",
        " It also improves code readability and understanding for developers by conveying the purpose and nature of the exception.\n",
        " Overall, using the `Exception` class ensures proper exception handling and promotes effective software development practices.'''\n"
      ]
    },
    {
      "cell_type": "code",
      "source": [
        "# Q2. Write a python program to print Python Exception Hierarchy.\n",
        "\n",
        "def print_exception_hierarchy():\n",
        "    base_exception = BaseException\n",
        "    exception_hierarchy = []\n",
        "\n",
        "    # Traverse the exception hierarchy\n",
        "    while base_exception is not None:\n",
        "        exception_hierarchy.append(base_exception)\n",
        "        base_exception = base_exception.__base__\n",
        "\n",
        "    # Print the exception hierarchy\n",
        "    print(\"Python Exception Hierarchy:\")\n",
        "    for exception_class in reversed(exception_hierarchy):\n",
        "        print(exception_class.__name__)\n",
        "\n",
        "print_exception_hierarchy()\n"
      ],
      "metadata": {
        "colab": {
          "base_uri": "https://localhost:8080/"
        },
        "id": "PSRwHLi4GFP-",
        "outputId": "4cb75119-a5e5-4435-de88-3c37d1acea38"
      },
      "execution_count": 3,
      "outputs": [
        {
          "output_type": "stream",
          "name": "stdout",
          "text": [
            "Python Exception Hierarchy:\n",
            "object\n",
            "BaseException\n"
          ]
        }
      ]
    },
    {
      "cell_type": "code",
      "source": [
        "# Q3. What errors are defined in the ArithmeticError class? Explain any two with an example.\n",
        "\n",
        "'''\n",
        "The `ArithmeticError` class is a base class for exceptions related to arithmetic operations in Python. It serves as the parent class for various arithmetic-related exceptions. Here are two examples of errors defined in the `ArithmeticError` class:\n",
        "\n",
        "1. `ZeroDivisionError`: This error occurs when a division or modulo operation is attempted with a divisor of zero.'''\n",
        "\n",
        "# Example:\n",
        "\n",
        "try:\n",
        "    result = 10 / 0  # Division by zero\n",
        "except ZeroDivisionError as e:\n",
        "    # print(\"Error: Division by zero!\")\n",
        "    print(e)\n",
        "\n",
        "# '''\n",
        "# Output:\n",
        "\n",
        "# Error: Division by zero!''''\n",
        "\n",
        "\n",
        "'''In this example, we try to divide 10 by 0, which is not mathematically valid. This raises a `ZeroDivisionError` exception. We catch the exception using an `except` block specifically for `ZeroDivisionError` and print an error message.'''\n",
        "\n"
      ],
      "metadata": {
        "colab": {
          "base_uri": "https://localhost:8080/",
          "height": 70
        },
        "id": "_KX3Cz13GUFO",
        "outputId": "664c1433-5b6f-4b4d-b86f-7e4489b176b4"
      },
      "execution_count": 14,
      "outputs": [
        {
          "output_type": "stream",
          "name": "stdout",
          "text": [
            "division by zero\n"
          ]
        },
        {
          "output_type": "execute_result",
          "data": {
            "text/plain": [
              "'In this example, we try to divide 10 by 0, which is not mathematically valid. This raises a `ZeroDivisionError` exception. We catch the exception using an `except` block specifically for `ZeroDivisionError` and print an error message.'"
            ],
            "application/vnd.google.colaboratory.intrinsic+json": {
              "type": "string"
            }
          },
          "metadata": {},
          "execution_count": 14
        }
      ]
    },
    {
      "cell_type": "code",
      "source": [
        "'''2. `OverflowError`: This error occurs when the result of an arithmetic operation exceeds the maximum representable value for a numeric type.'''\n",
        "\n",
        "# Example:\n",
        "\n",
        "j = 5.0\n",
        "\n",
        "try:\n",
        "    for i in range(1, 1000):\n",
        "        j = j**i\n",
        "except ArithmeticError as e:\n",
        "    print(f\"{e}, {e.__class__}\")\n",
        "\n",
        "                                                        # Output:\n",
        "                                                        # Error:  'OverflowError"
      ],
      "metadata": {
        "colab": {
          "base_uri": "https://localhost:8080/"
        },
        "id": "tPpNu9QOHMy9",
        "outputId": "e147bdc8-fa38-4f06-d15a-d2da608bf62d"
      },
      "execution_count": 15,
      "outputs": [
        {
          "output_type": "stream",
          "name": "stdout",
          "text": [
            "(34, 'Numerical result out of range'), <class 'OverflowError'>\n"
          ]
        }
      ]
    },
    {
      "cell_type": "code",
      "source": [
        "# Q4. Why LookupError class is used? Explain with an example KeyError and IndexError.\n",
        "\n",
        "'''\n",
        "The LookupError class is used as a base class for exceptions that occur when a lookup or indexing operation fails in Python.\n",
        "It serves as a parent class for more specific lookup-related exceptions such as KeyError and IndexError.\n",
        "The LookupError class provides a consistent way to handle lookup failures and allows for catching these types of exceptions as a group.\n",
        "\n",
        "Here are examples of two subclasses of LookupError: KeyError and IndexError'''\n",
        "# Example :KeyError\n",
        "\n",
        "my_dict = {\"name\": \"John\", \"age\": 30}\n",
        "\n",
        "try:\n",
        "    value = my_dict[\"city\"]  # Lookup for a non-existent key\n",
        "    print(\"Value:\", value)\n",
        "except KeyError as e:\n",
        "    print(\"KeyError occurred:\", str(e))\n"
      ],
      "metadata": {
        "colab": {
          "base_uri": "https://localhost:8080/"
        },
        "id": "pLo4OGg5MElj",
        "outputId": "f0da7566-eed0-4c94-e67c-f80f2078c3da"
      },
      "execution_count": 17,
      "outputs": [
        {
          "output_type": "stream",
          "name": "stdout",
          "text": [
            "KeyError occurred: 'city'\n"
          ]
        }
      ]
    },
    {
      "cell_type": "code",
      "source": [
        "# Example: IndexError\n",
        "\n",
        "my_list = [1, 2, 3]\n",
        "\n",
        "try:\n",
        "    value = my_list[4]  # Lookup with an out-of-range index\n",
        "    print(\"Value:\", value)\n",
        "except IndexError as e:\n",
        "    print(\"IndexError occurred:\", str(e))"
      ],
      "metadata": {
        "colab": {
          "base_uri": "https://localhost:8080/"
        },
        "id": "nG0Gh1zIHOQ1",
        "outputId": "8cc8ed84-0b23-4134-f6db-9f62f2a96448"
      },
      "execution_count": 16,
      "outputs": [
        {
          "output_type": "stream",
          "name": "stdout",
          "text": [
            "IndexError occurred: list index out of range\n"
          ]
        }
      ]
    },
    {
      "cell_type": "code",
      "source": [
        "# Q5. Explain ImportError. What is ModuleNotFoundError?\n",
        "\n",
        "'''\n",
        "ImportError is an exception that is raised when an import statement fails to import a module or when a module cannot be found. It is a subclass of the Exception class.\n",
        "\n",
        "When an ImportError occurs, it indicates that there was an issue with the import process. This can happen due to various reasons, such as:\n",
        "\n",
        "1.The module or package you are trying to import does not exist.\n",
        "2.There is an error in the module or package that prevents it from being imported.\n",
        "3.The module or package is not accessible due to incorrect file permissions or directory structure.\n",
        "4.The module or package has dependencies that are missing or not installed.'''\n",
        "\n",
        "try:\n",
        "    import non_existing_module\n",
        "except ImportError as e:\n",
        "    print(\"ImportError occurred:\", str(e))\n"
      ],
      "metadata": {
        "colab": {
          "base_uri": "https://localhost:8080/"
        },
        "id": "acQBaMaVNS5s",
        "outputId": "1adb28a3-8c4c-4f3a-bb5c-6503dc9244dd"
      },
      "execution_count": 19,
      "outputs": [
        {
          "output_type": "stream",
          "name": "stdout",
          "text": [
            "ImportError occurred: No module named 'non_existing_module'\n"
          ]
        }
      ]
    },
    {
      "cell_type": "code",
      "source": [
        "# Q6. List down some best practices for exception handling in python.\n",
        "\n",
        "'''\n",
        "Certainly! Here are some best practices for exception handling in Python:\n",
        "\n",
        "1. Be specific in exception handling: Catch exceptions that you can handle effectively and let other exceptions propagate up the call stack.\n",
        "Avoid using broad exception handlers like catching `Exception` unless you have a compelling reason to do so.\n",
        "\n",
        "2. Use multiple `except` blocks: When handling multiple exceptions, use separate `except` blocks for each exception rather than catching them all in one block.\n",
        " This allows you to handle each exception type differently and provide specific error messages or actions for each case.\n",
        "\n",
        "3. Handle exceptions gracefully: When catching an exception, handle it in a way that provides meaningful feedback to the user or helps the program recover gracefully.\n",
        "This can include displaying error messages, logging information, attempting alternative approaches, or exiting the program gracefully.\n",
        "\n",
        "4. Use `finally` block for cleanup: When appropriate, use a `finally` block to perform necessary cleanup tasks, such as closing files or releasing resources, regardless of whether an exception occurred or not.\n",
        "The `finally` block ensures that the cleanup code is executed even if an exception is raised or the program exits prematurely.\n",
        "\n",
        "5. Avoid silent failures: Avoid catching exceptions without taking any action or providing any indication to the user.\n",
        "It can make troubleshooting difficult and hide potential issues in the code. Either handle the exception properly or let it propagate up to the caller for appropriate handling.\n",
        "\n",
        "6. Use context managers: Utilize context managers (`with` statement) when working with resources that need to be properly managed and cleaned up, such as file handling or database connections.\n",
        "Context managers automatically handle resource cleanup, even in the event of exceptions.\n",
        "\n",
        "7. Log exceptions: Consider using a logging framework (e.g., Python's built-in `logging` module) to log exceptions.\n",
        "Logging exceptions with relevant information can assist in debugging and monitoring applications.\n",
        "\n",
        "8. Avoid excessive nesting: Aim for a flat and readable code structure. Avoid excessive nesting of `try-except` blocks, which can make the code difficult to read and maintain.\n",
        "Consider refactoring code to minimize nesting and improve code clarity.\n",
        "\n",
        "9. Document exception handling: Document the expected exceptions, their meanings, and the appropriate handling strategies for functions and methods.\n",
        "This helps other developers understand how to handle exceptions in your code.\n",
        "\n",
        "10. Test exception scenarios: Write tests to cover exception scenarios and ensure that exceptions are handled correctly.\n",
        " Test for both expected exceptions and unexpected exceptions to ensure the robustness of your code.\n",
        "\n",
        "By following these best practices, you can create more robust and maintainable code that handles exceptions effectively, provides meaningful feedback to users, and helps identify and resolve issues efficiently.'''"
      ],
      "metadata": {
        "colab": {
          "base_uri": "https://localhost:8080/",
          "height": 140
        },
        "id": "5dkLJ9VXOL1D",
        "outputId": "db806f82-5d1b-4df3-84c6-2380bdb1331f"
      },
      "execution_count": 21,
      "outputs": [
        {
          "output_type": "execute_result",
          "data": {
            "text/plain": [
              "\"\\nCertainly! Here are some best practices for exception handling in Python:\\n\\n1. Be specific in exception handling: Catch exceptions that you can handle effectively and let other exceptions propagate up the call stack.  \\nAvoid using broad exception handlers like catching `Exception` unless you have a compelling reason to do so.\\n\\n2. Use multiple `except` blocks: When handling multiple exceptions, use separate `except` blocks for each exception rather than catching them all in one block.\\n This allows you to handle each exception type differently and provide specific error messages or actions for each case.\\n\\n3. Handle exceptions gracefully: When catching an exception, handle it in a way that provides meaningful feedback to the user or helps the program recover gracefully. \\nThis can include displaying error messages, logging information, attempting alternative approaches, or exiting the program gracefully.\\n\\n4. Use `finally` block for cleanup: When appropriate, use a `finally` block to perform necessary cleanup tasks, such as closing files or releasing resources, regardless of whether an exception occurred or not. \\nThe `finally` block ensures that the cleanup code is executed even if an exception is raised or the program exits prematurely.\\n\\n5. Avoid silent failures: Avoid catching exceptions without taking any action or providing any indication to the user. \\nIt can make troubleshooting difficult and hide potential issues in the code. Either handle the exception properly or let it propagate up to the caller for appropriate handling.\\n\\n6. Use context managers: Utilize context managers (`with` statement) when working with resources that need to be properly managed and cleaned up, such as file handling or database connections. \\nContext managers automatically handle resource cleanup, even in the event of exceptions.\\n\\n7. Log exceptions: Consider using a logging framework (e.g., Python's built-in `logging` module) to log exceptions. \\nLogging exceptions with relevant information can assist in debugging and monitoring applications.\\n\\n8. Avoid excessive nesting: Aim for a flat and readable code structure. Avoid excessive nesting of `try-except` blocks, which can make the code difficult to read and maintain. \\nConsider refactoring code to minimize nesting and improve code clarity.\\n\\n9. Document exception handling: Document the expected exceptions, their meanings, and the appropriate handling strategies for functions and methods. \\nThis helps other developers understand how to handle exceptions in your code.\\n\\n10. Test exception scenarios: Write tests to cover exception scenarios and ensure that exceptions are handled correctly.\\n Test for both expected exceptions and unexpected exceptions to ensure the robustness of your code.\\n\\nBy following these best practices, you can create more robust and maintainable code that handles exceptions effectively, provides meaningful feedback to users, and helps identify and resolve issues efficiently.\""
            ],
            "application/vnd.google.colaboratory.intrinsic+json": {
              "type": "string"
            }
          },
          "metadata": {},
          "execution_count": 21
        }
      ]
    }
  ]
}